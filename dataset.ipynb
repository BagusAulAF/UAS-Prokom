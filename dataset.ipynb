{
 "cells": [
  {
   "cell_type": "code",
   "execution_count": 2,
   "metadata": {},
   "outputs": [],
   "source": [
    "# import packages\n",
    "import pandas as pd\n",
    "import matplotlib.pyplot as plt\n",
    "import json\n"
   ]
  },
  {
   "cell_type": "code",
   "execution_count": null,
   "metadata": {},
   "outputs": [],
   "source": [
    "#read data JSON dan CSV\n",
    "with open (\"kode_negara_lengkap.json\") as f:\n",
    "    data_json = json.load(f)\n",
    "print (data_json)    \n",
    "df = pd.read_csv('produksi_minyak_mentah.csv')\n",
    "df\n"
   ]
  },
  {
   "cell_type": "code",
   "execution_count": 4,
   "metadata": {},
   "outputs": [],
   "source": [
    "#Sorting JSON dan CSV \n",
    "daftar_negara = df.kode_negara.unique()\n",
    "dict_negara = dict()\n",
    "for name in data_json:\n",
    "    if name['alpha-3'] in daftar_negara:\n",
    "        dict_negara.update({name['alpha-3']:name['name']})\n"
   ]
  },
  {
   "cell_type": "code",
   "execution_count": 10,
   "metadata": {},
   "outputs": [],
   "source": [
    "#Fungsi converter\n",
    "\n",
    "def nama_negara(kode_negara):\n",
    "    if kode_negara in dict_negara:\n",
    "        return dict_negara[kode_negara]\n",
    "    else:\n",
    "        return kode_negara"
   ]
  },
  {
   "cell_type": "code",
   "execution_count": null,
   "metadata": {},
   "outputs": [
    {
     "data": {
      "text/plain": [
       "<BarContainer object of 45 artists>"
      ]
     },
     "execution_count": 6,
     "metadata": {},
     "output_type": "execute_result"
    },
    {
     "data": {
      "image/png": "[encoded data removed]",
      "text/plain": [
       "<Figure size 432x288 with 1 Axes>"
      ]
     },
     "metadata": {
      "needs_background": "light"
     },
     "output_type": "display_data"
    }
   ],
   "source": [
    "#No 1 Grafik Produksi Minyak Negara N \n",
    "\n",
    "negara = 'AUS' #selectbox sidebar\n",
    "bar_data = df[df.kode_negara == negara]\n",
    "x = df[df['kode_negara']==negara].tahun\n",
    "y = df[df['kode_negara']==negara].produksi\n",
    "\n",
    "fig1,ax1 = plt.subplots()\n",
    "ax1.set_xlabel(\"Tahun\")\n",
    "ax1.set_ylabel(\"Jumlah Produksi\")\n",
    "ax1.bar(x,y)"
   ]
  },
  {
   "cell_type": "code",
   "execution_count": 13,
   "metadata": {},
   "outputs": [
    {
     "data": {
      "image/png": "[encoded data removed]",
      "text/plain": [
       "<Figure size 432x288 with 1 Axes>"
      ]
     },
     "metadata": {
      "needs_background": "light"
     },
     "output_type": "display_data"
    }
   ],
   "source": [
    "#No 2 B besar Negara pada Tahun T\n",
    "Bbesar = 10 #slider\n",
    "year = 2015 #slider pisan\n",
    "\n",
    "promax = df[df.tahun == year].produksi.sort_values(ascending=False)[:Bbesar].values\n",
    "fig2,ax2 = plt.subplots()\n",
    "\n",
    "for prod in promax:\n",
    "    kode_max = df[(df.tahun == year) & (df.produksi == prod)].kode_negara.item()\n",
    "    nama_max = nama_negara(kode_max)\n",
    "    ax2.barh(nama_max, prod)\n",
    "\n",
    "plt.title(f\"Top {Bbesar} negara produksi terbesar pada tahun {year}\")\n",
    "plt.show()"
   ]
  },
  {
   "cell_type": "code",
   "execution_count": 8,
   "metadata": {},
   "outputs": [
    {
     "data": {
      "text/plain": [
       "<BarContainer object of 12 artists>"
      ]
     },
     "execution_count": 8,
     "metadata": {},
     "output_type": "execute_result"
    },
    {
     "data": {
      "image/png": "[encoded data removed]",
      "text/plain": [
       "<Figure size 432x288 with 1 Axes>"
      ]
     },
     "metadata": {
      "needs_background": "light"
     },
     "output_type": "display_data"
    }
   ],
   "source": [
    "#no 3 B-Besar Negara dengan Produksi Terbesar Kumulatif\n",
    "Bbesar = 12 #slider\n",
    "\n",
    "x = df.groupby(['kode_negara']).sum().sort_values(by='produksi', ascending = False).produksi[:Bbesar].index\n",
    "y = df.groupby(['kode_negara']).sum().sort_values(by='produksi', ascending = False).produksi[:Bbesar]\n",
    "\n",
    "fig3,ax3 = plt.subplots()\n",
    "ax3.bar(x,y)"
   ]
  },
  {
   "cell_type": "code",
   "execution_count": null,
   "metadata": {},
   "outputs": [
    {
     "ename": "IndexError",
     "evalue": "index 1 is out of bounds for axis 0 with size 0",
     "output_type": "error",
     "traceback": [
      "\u001b[1;31m---------------------------------------------------------------------------\u001b[0m",
      "\u001b[1;31mIndexError\u001b[0m                                Traceback (most recent call last)",
      "\u001b[1;32m~\\AppData\\Local\\Temp/ipykernel_15548/2008746731.py\u001b[0m in \u001b[0;36m<module>\u001b[1;34m\u001b[0m\n\u001b[0;32m      1\u001b[0m \u001b[1;31m#no 4 Nama lengkap negara, kode, jumlah produksi, dan kumulatif\u001b[0m\u001b[1;33m\u001b[0m\u001b[1;33m\u001b[0m\u001b[1;33m\u001b[0m\u001b[0m\n\u001b[0;32m      2\u001b[0m \u001b[0mtahun\u001b[0m \u001b[1;33m=\u001b[0m \u001b[1;36m1970\u001b[0m\u001b[1;33m\u001b[0m\u001b[1;33m\u001b[0m\u001b[0m\n\u001b[1;32m----> 3\u001b[1;33m \u001b[0mbig_negara\u001b[0m \u001b[1;33m=\u001b[0m \u001b[0mdf\u001b[0m\u001b[1;33m[\u001b[0m\u001b[0mdf\u001b[0m\u001b[1;33m.\u001b[0m\u001b[0mtahun\u001b[0m \u001b[1;33m==\u001b[0m \u001b[0mtahun\u001b[0m\u001b[1;33m]\u001b[0m\u001b[1;33m.\u001b[0m\u001b[0msort_values\u001b[0m\u001b[1;33m(\u001b[0m\u001b[0mby\u001b[0m \u001b[1;33m=\u001b[0m \u001b[1;34m\"produksi\"\u001b[0m\u001b[1;33m,\u001b[0m \u001b[0mascending\u001b[0m \u001b[1;33m=\u001b[0m \u001b[1;32mFalse\u001b[0m\u001b[1;33m)\u001b[0m\u001b[1;33m.\u001b[0m\u001b[0mkode_negara\u001b[0m\u001b[1;33m[\u001b[0m\u001b[1;33m:\u001b[0m\u001b[1;36m2\u001b[0m\u001b[1;33m]\u001b[0m\u001b[1;33m.\u001b[0m\u001b[0mvalues\u001b[0m\u001b[1;33m[\u001b[0m\u001b[1;36m1\u001b[0m\u001b[1;33m]\u001b[0m\u001b[1;33m\u001b[0m\u001b[1;33m\u001b[0m\u001b[0m\n\u001b[0m\u001b[0;32m      4\u001b[0m \u001b[0mprint\u001b[0m \u001b[1;33m(\u001b[0m\u001b[0mbig_negara\u001b[0m\u001b[1;33m)\u001b[0m\u001b[1;33m\u001b[0m\u001b[1;33m\u001b[0m\u001b[0m\n\u001b[0;32m      5\u001b[0m \u001b[1;33m\u001b[0m\u001b[0m\n",
      "\u001b[1;31mIndexError\u001b[0m: index 1 is out of bounds for axis 0 with size 0"
     ]
    }
   ],
   "source": [
    "#no 4 Nama lengkap negara, kode, jumlah produksi, dan kumulatif (tidak ada waktu)\n",
    "tahun = 1970\n",
    "\n",
    "big_negara      = df[df.tahun == tahun].sort_values(by = \"produksi\", ascending = False).kode_negara[:1].values[0]\n",
    "small_negara    = df[(df.tahun == tahun) & (df.produksi != 0)].sort_values(by = \"produksi\", ascending = True).kode_negara[:1].values[0]\n",
    "nol_negara      = df[(df.tahun == tahun) & (df.produksi == 0)].sort_values(by = \"produksi\", ascending = False).kode_negara.values\n",
    "\n",
    "#terbesar\n",
    "negara = \n",
    "#terkecil > 0\n",
    "#data nol"
   ]
  },
  {
   "cell_type": "code",
   "execution_count": 35,
   "metadata": {},
   "outputs": [
    {
     "data": {
      "text/plain": [
       "array(['AUS', 'AUT', 'BEL', 'CAN', 'CZE', 'DNK', 'FIN', 'FRA', 'DEU',\n",
       "       'GRC', 'HUN', 'ISL', 'IRL', 'ITA', 'JPN', 'KOR', 'LUX', 'MEX',\n",
       "       'NLD', 'NZL', 'NOR', 'POL', 'PRT', 'SVK', 'ESP', 'SWE', 'CHE',\n",
       "       'TUR', 'GBR', 'USA', 'OEU', 'ALB', 'DZA', 'ARG', 'ARM', 'AZE',\n",
       "       'BGD', 'BLR', 'BIH', 'BRA', 'BRN', 'BGR', 'KHM', 'CHL', 'CHN',\n",
       "       'COL', 'HRV', 'CYP', 'EGY', 'EST', 'ETH', 'GEO', 'GHA', 'HTI',\n",
       "       'HKG', 'IND', 'IDN', 'IRN', 'ISR', 'KAZ', 'LVA', 'LTU', 'MKD',\n",
       "       'MYS', 'MLT', 'MDA', 'MOZ', 'NGA', 'PAK', 'PRY', 'PER', 'PHL',\n",
       "       'ROU', 'RUS', 'SAU', 'SGP', 'SVN', 'ZAF', 'SDN', 'TWN', 'TZA',\n",
       "       'THA', 'UKR', 'ARE', 'URY', 'VNM', 'ZMB', 'WLD', 'SRB', 'MNE',\n",
       "       'EU28', 'G20', 'OECD', 'AGO', 'BHR', 'BEN', 'BOL', 'BWA', 'CMR',\n",
       "       'COG', 'CRI', 'CIV', 'CUB', 'PRK', 'COD', 'DOM', 'ECU', 'SLV',\n",
       "       'ERI', 'GAB', 'GTM', 'HND', 'IRQ', 'JAM', 'JOR', 'KEN', 'KWT',\n",
       "       'KGZ', 'LBN', 'LBY', 'MNG', 'MAR', 'MMR', 'NAM', 'NPL', 'NIC',\n",
       "       'NER', 'OMN', 'PAN', 'QAT', 'SEN', 'LKA', 'SYR', 'TJK', 'TGO',\n",
       "       'TTO', 'TUN', 'TKM', 'UZB', 'VEN', 'YEM', 'ZWE'], dtype=object)"
      ]
     },
     "execution_count": 35,
     "metadata": {},
     "output_type": "execute_result"
    }
   ],
   "source": [
    "df.kode_negara.unique()"
   ]
  }
 ],
 "metadata": {
  "interpreter": {
   "hash": "5c0372ed38b372118c24adb00d45654d76c8d10261533c5724e3f5fc1d75489a"
  },
  "kernelspec": {
   "display_name": "Python 3.8.7 64-bit",
   "language": "python",
   "name": "python3"
  },
  "language_info": {
   "codemirror_mode": {
    "name": "ipython",
    "version": 3
   },
   "file_extension": ".py",
   "mimetype": "text/x-python",
   "name": "python",
   "nbconvert_exporter": "python",
   "pygments_lexer": "ipython3",
   "version": "3.8.7"
  },
  "orig_nbformat": 4
 },
 "nbformat": 4,
 "nbformat_minor": 2
}
